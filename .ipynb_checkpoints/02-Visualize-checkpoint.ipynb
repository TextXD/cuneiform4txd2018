{
 "cells": [
  {
   "cell_type": "markdown",
   "metadata": {},
   "source": [
    "# Visualizing Embeddings with t-SNE and Bokeh\n",
    "The tsne_bokeh function in this notebook looks overly complex with assembling data in a DataFrame and then transforming this same data into a dictionary in ColumnDataSource and then calling this data in plot_tsne.circle. Any suggestions?\n",
    "\n",
    "Inspired by [*LDA visualized using t-SNE and Bokeh*](https://www.kaggle.com/yohanb/lda-visualized-using-t-sne-and-bokeh) by Yohan, and [*Visualizing Word Vectors with t-SNE*](https://www.kaggle.com/jeffd23/visualizing-word-vectors-with-t-sne) by Jeff Delayney.\n",
    "\n",
    "## Prerequisites\n",
    "More recent versions of Bokeh are compatible with Jupyter Notebook 5 or JupyterLab, but not with Jupyter Notebook 4.\n"
   ]
  },
  {
   "cell_type": "code",
   "execution_count": null,
   "metadata": {},
   "outputs": [],
   "source": [
    "import warnings\n",
    "warnings.filterwarnings(action='ignore', category=UserWarning, module='gensim') # this is only relevant in Windows.\n",
    "warnings.filterwarnings(action='ignore', category=FutureWarning, module='gensim' ) # warning will disappear in a future version of Gensim\n",
    "from gensim.models.fasttext import FastText as FT_gensim\n",
    "from sklearn.manifold import TSNE\n",
    "import pandas as pd\n",
    "from bokeh.io import output_notebook\n",
    "from bokeh.plotting import figure, show, save\n",
    "from bokeh.models import ColumnDataSource, LabelSet, Legend, LegendItem #, HoverTool, CustomJS, , Slider\n",
    "output_notebook()\n",
    "# note: more recent bokeh versions require notebook 5 or JupyterLab"
   ]
  },
  {
   "cell_type": "markdown",
   "metadata": {},
   "source": [
    "## Load the Sumerian Model"
   ]
  },
  {
   "cell_type": "code",
   "execution_count": null,
   "metadata": {},
   "outputs": [],
   "source": [
    "model_sux = FT_gensim.load(\"model/model_lemm.model\")"
   ]
  },
  {
   "cell_type": "markdown",
   "metadata": {},
   "source": [
    "# Select core words\n",
    "Select between 1 and 5 words for display. Vegetables are luxury food items. The lemma `šimgig[tree]N` appears primarily in deliveries for the production of perfumes."
   ]
  },
  {
   "cell_type": "code",
   "execution_count": null,
   "metadata": {},
   "outputs": [],
   "source": [
    "vegetables_perfumes = [\"šimgig[tree]N\", \"hiz[vegetable]N\"]"
   ]
  },
  {
   "cell_type": "markdown",
   "metadata": {},
   "source": [
    "# Find related words for each of the core words"
   ]
  },
  {
   "cell_type": "code",
   "execution_count": null,
   "metadata": {},
   "outputs": [],
   "source": [
    "def word_categories(model, words, topn=10):\n",
    "    \"\"\"word_categories takes an iterable with one or more words (up to 5) from the vocabulary of model.\n",
    "    For each word a dictionary of similar words (with the target word) is construed.\n",
    "    The value of each word is numerical (integer) and indicates the category to which it belongs.\n",
    "    The function returns a dictionary.\"\"\"\n",
    "    word_d = {}\n",
    "    for idx, word in enumerate(words):\n",
    "        w = model.wv.most_similar(word, topn=topn)\n",
    "        w = [m[0] for m in w]\n",
    "        w.append(word)\n",
    "        for item in w:\n",
    "            if item in word_d:\n",
    "                word_d[item] = 5\n",
    "            else:\n",
    "                word_d[item] = idx\n",
    "    return word_d"
   ]
  },
  {
   "cell_type": "code",
   "execution_count": null,
   "metadata": {},
   "outputs": [],
   "source": [
    "words_d = word_categories(model_sux, vegetables_perfumes)"
   ]
  },
  {
   "cell_type": "markdown",
   "metadata": {},
   "source": [
    "# Feed the Result to T-SNE and Bokeh"
   ]
  },
  {
   "cell_type": "code",
   "execution_count": null,
   "metadata": {},
   "outputs": [],
   "source": [
    "def tsne_bokeh(model, word_d, words, fontsize=\"12pt\"):\n",
    "\n",
    "    labels = []\n",
    "    tokens = []\n",
    "    categories = []\n",
    "    legend = []\n",
    "    \n",
    "    for word in word_d:\n",
    "        tokens.append(model.wv[word])\n",
    "        labels.append(word)\n",
    "        categories.append(word_d[word])\n",
    "        if word_d[word] == 5: \n",
    "            legend.append(\"mixed\")\n",
    "        else: \n",
    "            legend.append(words[word_d[word]])\n",
    "    \n",
    "    color_d = {0: \"black\", 1: \"red\", 2: \"green\", 3: \"yellow\", 4: \"brown\", 5: \"blue\"}\n",
    "    colors = [color_d[category] for category in categories]\n",
    "    \n",
    "    tsne = TSNE(perplexity=40, n_components=2, init='pca', n_iter=2500, random_state=23)\n",
    "    tsne_embedding = tsne.fit_transform(tokens)\n",
    "    tsne_embedding = pd.DataFrame(tsne_embedding, columns=['x','y'])\n",
    "    tsne_embedding[\"color\"] = colors\n",
    "    tsne_embedding[\"labels\"] = labels\n",
    "    tsne_embedding[\"legend\"] = legend\n",
    "\n",
    "    source = ColumnDataSource(\n",
    "        data=dict(\n",
    "        x = tsne_embedding.x,\n",
    "        y = tsne_embedding.y,\n",
    "        colors = tsne_embedding.color,\n",
    "        labels=tsne_embedding.labels,\n",
    "        legend = tsne_embedding.legend\n",
    "        )\n",
    "    )\n",
    "\n",
    "    l = LabelSet(x='x', y='y', text='labels', level='glyph',\n",
    "              x_offset=5, y_offset=5, source=source, render_mode='canvas', \n",
    "             text_font_size=fontsize, text_font=\"CuneiformComposite\")\n",
    "\n",
    "    plot_tsne = figure(plot_width=900, plot_height=900) #, tools=tools_tsne, title='Papers')\n",
    "    plot_tsne.circle('x', 'y', size=7, fill_color='colors', \n",
    "                  line_alpha=0, line_width=0.01, source=source, legend=\"legend\")\n",
    "    plot_tsne.add_layout(l)\n",
    "    return plot_tsne"
   ]
  },
  {
   "cell_type": "code",
   "execution_count": null,
   "metadata": {},
   "outputs": [],
   "source": [
    "p2 = tsne_bokeh(model_sux, words_d, vegetables_perfumes)\n",
    "show(p2)"
   ]
  },
  {
   "cell_type": "code",
   "execution_count": null,
   "metadata": {},
   "outputs": [],
   "source": []
  }
 ],
 "metadata": {
  "kernelspec": {
   "display_name": "Python 3",
   "language": "python",
   "name": "python3"
  },
  "language_info": {
   "codemirror_mode": {
    "name": "ipython",
    "version": 3
   },
   "file_extension": ".py",
   "mimetype": "text/x-python",
   "name": "python",
   "nbconvert_exporter": "python",
   "pygments_lexer": "ipython3",
   "version": "3.7.0"
  }
 },
 "nbformat": 4,
 "nbformat_minor": 2
}
