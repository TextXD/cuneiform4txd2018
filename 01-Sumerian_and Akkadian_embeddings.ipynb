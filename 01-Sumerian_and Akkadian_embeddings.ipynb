{
 "cells": [
  {
   "cell_type": "markdown",
   "metadata": {},
   "source": [
    "# Sumerian and Akkadian Word Embeddings\n",
    "By Niek Veldhuis, Department of Near Eastern Studies, UC Berkeley\n",
    "\n",
    "This notebook loads Sumerian and Akkadian word embedding models and gives some hints for how to explore these models. Will someone be brave enough to try and align the two models?\n",
    "\n",
    "The data derive from the Open Richly Annotated Cuneiform Corpus ([ORACC](http://oracc.org)) created by Steve Tinney (UPenn) and dircted by Jamie Novotny (Munich), Eleanor Robson (UC London), Steve Tinney (UPenn), and Niek Veldhuis (UC Berkeley).\n",
    "\n",
    "The Sumerian texts used in this model date between 2,500 BCE and 0; the corpus is dominated by a group of about 70,000 administrative texts from around 2,050 BCE dealing with animals, grain, labor, precious objects, etc. The entire corpus used here has about about 4.3 million words. The Akkadian corpus ranges from ca. 2,000 BCE to 0 and consists primarily of library texts, royal inscriptions, royal correspondence, and royal administartion, for a total of some 1.5 million words. Sumerian was spoken in the deep South of present day Iraq in the third millennium - afterwards it became a language of scholarship and religion. Akkadian was spoken in Babylonia and Assyria - roughly the same cultural area where Sumerian was at home.\n",
    "\n",
    "![A Sumerian - Akkadian Bilingual Dictionary](https://cdli.ucla.edu/dl/tn_photo/P342645.jpg)\n",
    "A Sumerian - Akkadian dictionary, Museum number MS 3178. Click [here](https://cdli.ucla.edu/dl/photo/P342645.jpg) for a larger picture and [here](http://oracc.org/dcclt/signlists/P342645) for a full edition and translation of the text.\n",
    "\n",
    "## Licensing\n",
    "The data in the models derive from [ORACC](http://oracc.org) and have been acquired formatted and processed by Niek Veldhuis, UC Berkeley, November 2018. You are free to use the models (CC0 or Public Domain), but it is appreciated if you provide a link to [ORACC](http://oracc.org) as the source of the data.\n",
    "\n",
    "## Prerequisites\n",
    "The code below requires a relatively recent version of Gensim - one that includes a FastText implementation."
   ]
  },
  {
   "cell_type": "code",
   "execution_count": null,
   "metadata": {},
   "outputs": [],
   "source": [
    "import warnings\n",
    "warnings.filterwarnings(action='ignore', category=UserWarning, module='gensim') # this is only relevant in Windows.\n",
    "warnings.filterwarnings(action='ignore', category=FutureWarning, module='gensim' ) # warning will disappear in a future version of Gensim\n",
    "from gensim.models.fasttext import FastText as FT_gensim\n",
    "import pickle"
   ]
  },
  {
   "cell_type": "markdown",
   "metadata": {},
   "source": [
    "# Load the Models"
   ]
  },
  {
   "cell_type": "code",
   "execution_count": null,
   "metadata": {},
   "outputs": [],
   "source": [
    "model_sux = FT_gensim.load(\"model/model_lemm.model\")\n",
    "model_akk = FT_gensim.load(\"model/akk_model_lemm.model\")"
   ]
  },
  {
   "cell_type": "markdown",
   "metadata": {},
   "source": [
    "# Vocabulary\n",
    "Lemmatized tokens have the form **CitationForm[GuideWord]POS** (for instance lugal[king]N). Tokens that are not lemmatized (names, broken words, unknown words) are given in transliteration (for instance ab-ba-sa₆-ga). To find possible vocabulary items you may inspect the `vocabulary` attribute."
   ]
  },
  {
   "cell_type": "code",
   "execution_count": null,
   "metadata": {},
   "outputs": [],
   "source": [
    "model_sux.wv.vocab"
   ]
  },
  {
   "cell_type": "markdown",
   "metadata": {},
   "source": [
    "# Similar words"
   ]
  },
  {
   "cell_type": "code",
   "execution_count": null,
   "metadata": {},
   "outputs": [],
   "source": [
    "model_akk.wv.most_similar(\"šarru[king]N\", topn = 2), model_sux.wv.most_similar(\"lugal[king]N\", topn=2)"
   ]
  },
  {
   "cell_type": "markdown",
   "metadata": {},
   "source": [
    "# Out of Vocabulary Words\n",
    "This is fasttext ... You may also use OOV words such as partial matches."
   ]
  },
  {
   "cell_type": "code",
   "execution_count": null,
   "metadata": {},
   "outputs": [],
   "source": [
    "model_akk.wv.most_similar(\"palace\", topn = 2), model_sux.wv.most_similar(\"[tiger]N\", topn=2)"
   ]
  },
  {
   "cell_type": "markdown",
   "metadata": {},
   "source": [
    "# Kings and Queens\n",
    "Hmmmm. You may also try the Sumerian version with lugal[king]N, munus[woman]N and nita[man]N (it doesn't fare much better)."
   ]
  },
  {
   "cell_type": "code",
   "execution_count": null,
   "metadata": {},
   "outputs": [],
   "source": [
    "model_akk.wv.most_similar(positive=[\"šarru[king]N\", \"sinništu[woman]N\"], negative = [\"zikaru[male]N\"])"
   ]
  },
  {
   "cell_type": "markdown",
   "metadata": {},
   "source": [
    "# Oxen and Sheep\n",
    "More culturally appropriate, perhaps."
   ]
  },
  {
   "cell_type": "code",
   "execution_count": null,
   "metadata": {},
   "outputs": [],
   "source": [
    "model_sux.wv.most_similar(positive=[\"gud[oxen]N\", \"sila[lamb]N\"], negative= [\"amar[calf]N\"])"
   ]
  },
  {
   "cell_type": "markdown",
   "metadata": {},
   "source": [
    "# The Challenge\n",
    "Is it possible to align the Sumerian and the Akkadian models? The [fasttext_multilingual](https://github.com/Babylonpartners/fastText_multilingual) repo of Babylonpartners (what's in a name?) provides a discussion of the concept and also includes a [notebook](https://github.com/Babylonpartners/fastText_multilingual/blob/master/align_your_own.ipynb) that allows you to align your own vector spaces. The notebook uses a different implementation of Fasttext.\n",
    "\n",
    "For the alignment you need an initial bilingual dictionary. This bilingual wordlist (to avoid confusion with the Python term `dictionary`) is a list of tuples in the format\n",
    "```python\n",
    "[(\"Sumerian word\", \"Akkadian word\"), \n",
    " ...]\n",
    "```\n",
    "The wordlist has almost 800 entries and was cobbled together from the electronic Pennsylvania Sumerian Dictionary ([ePSD2](http://oracc.org/epsd2))."
   ]
  },
  {
   "cell_type": "code",
   "execution_count": null,
   "metadata": {},
   "outputs": [],
   "source": [
    "with open(\"pickles/bilingual_dict.p\", \"rb\") as f: \n",
    "    sux_akk = pickle.load(f)\n",
    "sux_akk"
   ]
  },
  {
   "cell_type": "code",
   "execution_count": null,
   "metadata": {},
   "outputs": [],
   "source": []
  }
 ],
 "metadata": {
  "kernelspec": {
   "display_name": "Python 3",
   "language": "python",
   "name": "python3"
  },
  "language_info": {
   "codemirror_mode": {
    "name": "ipython",
    "version": 3
   },
   "file_extension": ".py",
   "mimetype": "text/x-python",
   "name": "python",
   "nbconvert_exporter": "python",
   "pygments_lexer": "ipython3",
   "version": "3.7.0"
  }
 },
 "nbformat": 4,
 "nbformat_minor": 2
}
